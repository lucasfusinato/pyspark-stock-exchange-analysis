{
  "cells": [
    {
      "cell_type": "markdown",
      "metadata": {
        "id": "BNSYkHHO2guh"
      },
      "source": [
        "# Stock Exchange Analysis using Spark"
      ]
    },
    {
      "cell_type": "markdown",
      "metadata": {
        "id": "ubNeEcUj2guo"
      },
      "source": [
        "## Environment"
      ]
    },
    {
      "cell_type": "code",
      "execution_count": 1,
      "metadata": {
        "id": "kKImH02h2gup"
      },
      "outputs": [],
      "source": [
        "! pip install spark > /dev/null"
      ]
    },
    {
      "cell_type": "code",
      "execution_count": 2,
      "metadata": {
        "id": "ETn7UBUU2guq"
      },
      "outputs": [],
      "source": [
        "! pip install pyspark > /dev/null"
      ]
    },
    {
      "cell_type": "markdown",
      "metadata": {
        "id": "jl7dJSS82gur"
      },
      "source": [
        "### Spark connection"
      ]
    },
    {
      "cell_type": "code",
      "execution_count": 3,
      "metadata": {
        "id": "qa_AOYDY2gus"
      },
      "outputs": [],
      "source": [
        "from pyspark.sql import SparkSession"
      ]
    },
    {
      "cell_type": "code",
      "execution_count": 4,
      "metadata": {
        "id": "O0orkqxb2gus"
      },
      "outputs": [],
      "source": [
        "spark = SparkSession.builder.master('local').getOrCreate()\n",
        "sc = spark.sparkContext"
      ]
    },
    {
      "cell_type": "markdown",
      "metadata": {
        "id": "cJnBUhKA2gut"
      },
      "source": [
        "### Dataset preparation"
      ]
    },
    {
      "cell_type": "code",
      "execution_count": 5,
      "metadata": {
        "id": "PTYT6ePh2guu"
      },
      "outputs": [],
      "source": [
        "from pyspark.sql.types import StructType, DateType, StringType, IntegerType, DoubleType"
      ]
    },
    {
      "cell_type": "code",
      "execution_count": 6,
      "metadata": {
        "id": "-MceJGj72guw"
      },
      "outputs": [],
      "source": [
        "schema = StructType() \\\n",
        "    .add('date', DateType(), True) \\\n",
        "    .add('open', DoubleType(), True) \\\n",
        "    .add('high', DoubleType(), True) \\\n",
        "    .add('low', DoubleType(), True) \\\n",
        "    .add('close', DoubleType(), True) \\\n",
        "    .add('volume', IntegerType(), True) \\\n",
        "    .add('Name', StringType(), True)"
      ]
    },
    {
      "cell_type": "code",
      "execution_count": 9,
      "metadata": {
        "colab": {
          "base_uri": "https://localhost:8080/"
        },
        "id": "ByWC2Van2guy",
        "outputId": "c0a8002e-bcd2-48cc-dd09-e71071584b4d"
      },
      "outputs": [
        {
          "output_type": "stream",
          "name": "stdout",
          "text": [
            "root\n",
            " |-- date: date (nullable = true)\n",
            " |-- open: double (nullable = true)\n",
            " |-- high: double (nullable = true)\n",
            " |-- low: double (nullable = true)\n",
            " |-- close: double (nullable = true)\n",
            " |-- volume: integer (nullable = true)\n",
            " |-- Name: string (nullable = true)\n",
            "\n",
            "+----------+-----+-----+-----+-----+--------+----+\n",
            "|      date| open| high|  low|close|  volume|Name|\n",
            "+----------+-----+-----+-----+-----+--------+----+\n",
            "|2013-02-08|15.07|15.12|14.63|14.75| 8407500| AAL|\n",
            "|2013-02-11|14.89|15.01|14.26|14.46| 8882000| AAL|\n",
            "|2013-02-12|14.45|14.51| 14.1|14.27| 8126000| AAL|\n",
            "|2013-02-13| 14.3|14.94|14.25|14.66|10259500| AAL|\n",
            "|2013-02-14|14.94|14.96|13.16|13.99|31879900| AAL|\n",
            "|2013-02-15|13.93|14.61|13.93| 14.5|15628000| AAL|\n",
            "|2013-02-19|14.33|14.56|14.08|14.26|11354400| AAL|\n",
            "|2013-02-20|14.17|14.26|13.15|13.33|14725200| AAL|\n",
            "|2013-02-21|13.62|13.95| 12.9|13.37|11922100| AAL|\n",
            "|2013-02-22|13.57| 13.6|13.21|13.57| 6071400| AAL|\n",
            "|2013-02-25| 13.6|13.76| 13.0|13.02| 7186400| AAL|\n",
            "|2013-02-26|13.14|13.42| 12.7|13.26| 9419000| AAL|\n",
            "|2013-02-27|13.28|13.62|13.18|13.41| 7390500| AAL|\n",
            "|2013-02-28|13.49|13.63|13.39|13.43| 6143600| AAL|\n",
            "|2013-03-01|13.37|13.95|13.32|13.61| 7376800| AAL|\n",
            "|2013-03-04| 13.5|14.07|13.47| 13.9| 8174800| AAL|\n",
            "|2013-03-05|14.01|14.05|13.71|14.05| 7676100| AAL|\n",
            "|2013-03-06|14.52|14.68|14.25|14.57|13243200| AAL|\n",
            "|2013-03-07| 14.7|14.93| 14.5|14.82| 9125300| AAL|\n",
            "|2013-03-08|14.99| 15.2|14.84|14.92|10593700| AAL|\n",
            "+----------+-----+-----+-----+-----+--------+----+\n",
            "only showing top 20 rows\n",
            "\n"
          ]
        }
      ],
      "source": [
        "df_stocks = spark.read.format('csv').option('header', True).schema(schema).load('all_stocks_5yr.csv')\n",
        "df_stocks.printSchema()\n",
        "df_stocks.show()"
      ]
    },
    {
      "cell_type": "markdown",
      "metadata": {
        "id": "pnJL3E4w2gu0"
      },
      "source": [
        "## Quiz"
      ]
    },
    {
      "cell_type": "markdown",
      "metadata": {
        "id": "4tvRdiow2gu1"
      },
      "source": [
        "### 1. How many rows there are in dataset?"
      ]
    },
    {
      "cell_type": "code",
      "execution_count": 10,
      "metadata": {
        "colab": {
          "base_uri": "https://localhost:8080/"
        },
        "id": "3mtlJbpa2gu2",
        "outputId": "dad82ae4-351b-41d8-cf0a-abdb40976233"
      },
      "outputs": [
        {
          "output_type": "stream",
          "name": "stdout",
          "text": [
            "There are 619040 rows in dataset\n"
          ]
        }
      ],
      "source": [
        "dataset_rows = df_stocks.count()\n",
        "print(f'There are {dataset_rows} rows in dataset')"
      ]
    },
    {
      "cell_type": "markdown",
      "metadata": {
        "id": "WPrV9IaL2gu2"
      },
      "source": [
        "### 2. How many rows there are in dataset with AAPL stocks?"
      ]
    },
    {
      "cell_type": "code",
      "execution_count": 11,
      "metadata": {
        "colab": {
          "base_uri": "https://localhost:8080/"
        },
        "id": "exZ4SG1X2gu2",
        "outputId": "3ad3872e-1cc5-4fa3-a6bc-e6ce9cdea980"
      },
      "outputs": [
        {
          "output_type": "stream",
          "name": "stdout",
          "text": [
            "There are 1259 rows in dataset with AAPL stocks\n"
          ]
        }
      ],
      "source": [
        "dataset_aapl_rows = df_stocks.filter(df_stocks.Name == 'AAPL').count()\n",
        "print(f'There are {dataset_aapl_rows} rows in dataset with AAPL stocks')"
      ]
    },
    {
      "cell_type": "markdown",
      "metadata": {
        "id": "MXDrFlG32gu3"
      },
      "source": [
        "### 3. How many different companies there are in dataset?"
      ]
    },
    {
      "cell_type": "code",
      "execution_count": 12,
      "metadata": {
        "colab": {
          "base_uri": "https://localhost:8080/"
        },
        "id": "TK8lp7gG2gu4",
        "outputId": "5e38b270-2122-4825-ae54-ad92c7785222"
      },
      "outputs": [
        {
          "output_type": "stream",
          "name": "stdout",
          "text": [
            "There are 505 different companies in dataset\n"
          ]
        }
      ],
      "source": [
        "dataset_companies_count = df_stocks.select('Name').distinct().count()\n",
        "print(f'There are {dataset_companies_count} different companies in dataset')"
      ]
    },
    {
      "cell_type": "markdown",
      "metadata": {
        "id": "WB12xjG52gu4"
      },
      "source": [
        "### 4. How often closing stock price is greater than opening?"
      ]
    },
    {
      "cell_type": "code",
      "execution_count": 13,
      "metadata": {
        "colab": {
          "base_uri": "https://localhost:8080/"
        },
        "id": "egg_Tt_z2gu5",
        "outputId": "2c099807-2cff-4b60-fe67-f2765902e3e4"
      },
      "outputs": [
        {
          "output_type": "stream",
          "name": "stdout",
          "text": [
            "Closing stock price is greather than opening in 51.53% of times\n"
          ]
        }
      ],
      "source": [
        "dataset_close_greather_open = df_stocks.filter(df_stocks.close > df_stocks.open).count() / df_stocks.count()\n",
        "print(f'Closing stock price is greather than opening in {round(dataset_close_greather_open * 100, 2)}% of times')"
      ]
    },
    {
      "cell_type": "markdown",
      "metadata": {
        "id": "FS1P3kXh2gu5"
      },
      "source": [
        "### 5. What is the biggest AAPL's stock in history?"
      ]
    },
    {
      "cell_type": "code",
      "execution_count": 14,
      "metadata": {
        "colab": {
          "base_uri": "https://localhost:8080/"
        },
        "id": "pbZyw0po2gu6",
        "outputId": "30afcf20-c21e-4043-8ed6-8802a51d5083"
      },
      "outputs": [
        {
          "output_type": "stream",
          "name": "stdout",
          "text": [
            "APPL's biggest stock in history is 180.1\n"
          ]
        }
      ],
      "source": [
        "dataset_biggest_appl_stock = df_stocks.filter(df_stocks.Name == 'AAPL').agg({'high': 'max'}).first()['max(high)']\n",
        "print(f'APPL\\'s biggest stock in history is {dataset_biggest_appl_stock}')"
      ]
    },
    {
      "cell_type": "markdown",
      "metadata": {
        "id": "3VyXlrHL2gu6"
      },
      "source": [
        "### 6. Considering closing price standard deviation, which stock has the bigger volatility?"
      ]
    },
    {
      "cell_type": "code",
      "execution_count": 15,
      "metadata": {
        "colab": {
          "base_uri": "https://localhost:8080/"
        },
        "id": "fX8eSw7u2gu7",
        "outputId": "ee3baea2-4ff4-4977-9a34-40ce2b75c18e"
      },
      "outputs": [
        {
          "output_type": "stream",
          "name": "stdout",
          "text": [
            "Stock with biggest volatility is PCLN with closing price standard deviation of 320.53\n"
          ]
        }
      ],
      "source": [
        "dataset_stock_stddev = df_stocks.groupBy('Name').agg({'close': 'stddev'})\n",
        "dataset_biggest_volatility = dataset_stock_stddev.sort(dataset_stock_stddev['stddev(close)'].desc()).first()\n",
        "print(f'Stock with biggest volatility is {dataset_biggest_volatility[\"Name\"]} with closing price standard deviation of {round(dataset_biggest_volatility[\"stddev(close)\"], 2)}')"
      ]
    },
    {
      "cell_type": "markdown",
      "metadata": {
        "id": "GC62tDII2gu7"
      },
      "source": [
        "### 7. Which day has the biggest stock exchange's negotiation volume?"
      ]
    },
    {
      "cell_type": "code",
      "execution_count": 16,
      "metadata": {
        "colab": {
          "base_uri": "https://localhost:8080/"
        },
        "id": "JsMXlAaT2gu7",
        "outputId": "15f15259-1e34-4b0a-f086-b5ba1694ff3d"
      },
      "outputs": [
        {
          "output_type": "stream",
          "name": "stdout",
          "text": [
            "The day with biggest stock exchange's negotiation volume is 2015-08-24 with volume of 4607945196\n"
          ]
        }
      ],
      "source": [
        "dataset_volume_by_day = df_stocks.groupBy('date').sum('volume')\n",
        "dataset_biggest_volume = dataset_volume_by_day.sort(dataset_volume_by_day['sum(volume)'].desc()).first()\n",
        "print(f'The day with biggest stock exchange\\'s negotiation volume is {dataset_biggest_volume[\"date\"]} with volume of {dataset_biggest_volume[\"sum(volume)\"]}')"
      ]
    },
    {
      "cell_type": "markdown",
      "metadata": {
        "id": "gwYf4keZ2gu8"
      },
      "source": [
        "### 8. Considering transaction volume, which is the biggest exchanged stock?"
      ]
    },
    {
      "cell_type": "code",
      "execution_count": 17,
      "metadata": {
        "colab": {
          "base_uri": "https://localhost:8080/"
        },
        "id": "0nEFBDVc2gu8",
        "outputId": "d689fd43-d2bf-4da7-ec33-867c43379f24"
      },
      "outputs": [
        {
          "output_type": "stream",
          "name": "stdout",
          "text": [
            "Considering transaction volume, the biggest stock exchanged is BAC with volume of 117884953591\n"
          ]
        }
      ],
      "source": [
        "dataset_volume_by_stock = df_stocks.groupBy('Name').sum('volume')\n",
        "dataset_biggest_volume = dataset_volume_by_stock.sort(dataset_volume_by_stock['sum(volume)'].desc()).first()\n",
        "print(f'Considering transaction volume, the biggest stock exchanged is {dataset_biggest_volume[\"Name\"]} with volume of {dataset_biggest_volume[\"sum(volume)\"]}')"
      ]
    },
    {
      "cell_type": "markdown",
      "metadata": {
        "id": "5lsl_Rla2gu9"
      },
      "source": [
        "### 9. How many stocks starts with letter \"A\"?"
      ]
    },
    {
      "cell_type": "code",
      "execution_count": 18,
      "metadata": {
        "colab": {
          "base_uri": "https://localhost:8080/"
        },
        "id": "MZXNjIFR2gu-",
        "outputId": "b693e157-2a1c-41d3-8388-1f3e64e1d4f0"
      },
      "outputs": [
        {
          "output_type": "stream",
          "name": "stdout",
          "text": [
            "There are 59 stocks starting with letter \"A\"\n"
          ]
        }
      ],
      "source": [
        "dataset_startswith_a = df_stocks.select('Name').distinct().filter(df_stocks.Name.startswith('A')).count()\n",
        "print(f'There are {dataset_startswith_a} stocks starting with letter \"A\"')"
      ]
    },
    {
      "cell_type": "markdown",
      "metadata": {
        "id": "XlGoi5KA2gu_"
      },
      "source": [
        "### 10. How often closing stock price is the biggest day price?"
      ]
    },
    {
      "cell_type": "code",
      "execution_count": 19,
      "metadata": {
        "colab": {
          "base_uri": "https://localhost:8080/"
        },
        "id": "WGQIrvZF2gvA",
        "outputId": "22052180-8836-413b-b82d-b091998dc201"
      },
      "outputs": [
        {
          "output_type": "stream",
          "name": "stdout",
          "text": [
            "Closing stock price is the biggest day's price 1.2% of times\n"
          ]
        }
      ],
      "source": [
        "dataset_close_is_biggest = df_stocks.filter(df_stocks.close == df_stocks.high).count() / df_stocks.count()\n",
        "print(f'Closing stock price is the biggest day\\'s price {round(dataset_close_is_biggest * 100, 2)}% of times')"
      ]
    },
    {
      "cell_type": "markdown",
      "metadata": {
        "id": "lvMzdT9o2gvC"
      },
      "source": [
        "### 11. Which day Apple stocks had the most absolute growing until closing?"
      ]
    },
    {
      "cell_type": "code",
      "execution_count": 20,
      "metadata": {
        "colab": {
          "base_uri": "https://localhost:8080/"
        },
        "id": "sF6kre7_2gvC",
        "outputId": "7f2a22eb-5a2b-4c51-eafc-699214371b25"
      },
      "outputs": [
        {
          "output_type": "stream",
          "name": "stdout",
          "text": [
            "AAPL most absolute growing until close was 108.8 at 2015-08-24\n"
          ]
        }
      ],
      "source": [
        "dataset_aapl_grow = df_stocks.filter(df_stocks.Name == 'AAPL').withColumn('grow', df_stocks.close - df_stocks.open)\n",
        "dataset_highest_grow = dataset_aapl_grow.sort(dataset_aapl_grow.grow.desc()).first()\n",
        "print(f'AAPL most absolute growing until close was {dataset_highest_grow[\"high\"]} at {dataset_highest_grow[\"date\"]}')"
      ]
    },
    {
      "cell_type": "markdown",
      "metadata": {
        "id": "eE4AxYna2gvC"
      },
      "source": [
        "### 12. Considering mean value, which is the daily's AAPL stocks transaction volume?"
      ]
    },
    {
      "cell_type": "code",
      "execution_count": 21,
      "metadata": {
        "colab": {
          "base_uri": "https://localhost:8080/"
        },
        "id": "f3UZD0402gvC",
        "outputId": "1cc30312-171e-4c76-ba79-71b1022b5b50"
      },
      "outputs": [
        {
          "output_type": "stream",
          "name": "stdout",
          "text": [
            "AAPL daily's stock transaction mean volume is 54047899.73550437\n"
          ]
        }
      ],
      "source": [
        "dataset_aapl_mean_volume = df_stocks.filter(df_stocks.Name == 'AAPL').agg({'volume': 'mean'}).first()['avg(volume)']\n",
        "print(f'AAPL daily\\'s stock transaction mean volume is {dataset_aapl_mean_volume}')"
      ]
    },
    {
      "cell_type": "markdown",
      "metadata": {
        "id": "z7d7CpZr2gvD"
      },
      "source": [
        "### 13. How many stocks' names has 1, 2, 3, 4 and 5 character length, respectivelly?"
      ]
    },
    {
      "cell_type": "code",
      "execution_count": 22,
      "metadata": {
        "id": "_Wcjzqz42gvD"
      },
      "outputs": [],
      "source": [
        "from pyspark.sql.functions import col, length, array_contains"
      ]
    },
    {
      "cell_type": "code",
      "execution_count": 23,
      "metadata": {
        "colab": {
          "base_uri": "https://localhost:8080/"
        },
        "id": "jvLAtvni2gvD",
        "outputId": "8c026259-6d5c-43cc-e572-733933139e64"
      },
      "outputs": [
        {
          "output_type": "stream",
          "name": "stdout",
          "text": [
            "There are 10, 50, 323, 117, 5 stocks which name has 1, 2, 3, 4, 5 character length, respectivelly\n"
          ]
        }
      ],
      "source": [
        "dataset_name_length = df_stocks.select('Name').distinct().withColumn('name_length', length(col('Name'))).groupBy('name_length').agg({'Name': 'count'})\n",
        "dataset_five_lengths = dataset_name_length.sort(dataset_name_length.name_length.asc()).select('count(Name)').rdd.map(lambda row : row['count(Name)']).collect()\n",
        "print(f'There are {\", \".join([str(value) for value in dataset_five_lengths])} stocks which name has 1, 2, 3, 4, 5 character length, respectivelly')"
      ]
    },
    {
      "cell_type": "markdown",
      "metadata": {
        "id": "0WHgQWxD2gvD"
      },
      "source": [
        "### 14. Considering transaction volume, which is the less exchanged stock?"
      ]
    },
    {
      "cell_type": "code",
      "execution_count": 24,
      "metadata": {
        "colab": {
          "base_uri": "https://localhost:8080/"
        },
        "id": "w8-w6zpp2gvE",
        "outputId": "062933ac-226b-407b-d2ec-2e57198dc770"
      },
      "outputs": [
        {
          "output_type": "stream",
          "name": "stdout",
          "text": [
            "Considering transaction volume, the lowest stock exchanged is APTV with volume of 92947779\n"
          ]
        }
      ],
      "source": [
        "dataset_volume_by_stock = df_stocks.groupBy('Name').sum('volume')\n",
        "dataset_lowest_volume = dataset_volume_by_stock.sort(dataset_volume_by_stock['sum(volume)'].asc()).first()\n",
        "print(f'Considering transaction volume, the lowest stock exchanged is {dataset_lowest_volume[\"Name\"]} with volume of {dataset_lowest_volume[\"sum(volume)\"]}')"
      ]
    },
    {
      "cell_type": "markdown",
      "metadata": {
        "id": "WdPqKmAC2gvE"
      },
      "source": [
        "### 15. How often closing price is the biggest day price?"
      ]
    },
    {
      "cell_type": "code",
      "execution_count": 25,
      "metadata": {
        "colab": {
          "base_uri": "https://localhost:8080/"
        },
        "id": "Ct5HeYY72gvE",
        "outputId": "327692a9-dda0-42d5-d0ec-8d8a8c87265b"
      },
      "outputs": [
        {
          "output_type": "stream",
          "name": "stdout",
          "text": [
            "Closing stock price is the biggest day's price 1.2% of times\n"
          ]
        }
      ],
      "source": [
        "dataset_close_is_biggest = df_stocks.filter(df_stocks.close == df_stocks.high).count() / df_stocks.count()\n",
        "print(f'Closing stock price is the biggest day\\'s price {round(dataset_close_is_biggest * 100, 2)}% of times')"
      ]
    }
  ],
  "metadata": {
    "kernelspec": {
      "display_name": "Python 3 (ipykernel)",
      "language": "python",
      "name": "python3"
    },
    "language_info": {
      "codemirror_mode": {
        "name": "ipython",
        "version": 3
      },
      "file_extension": ".py",
      "mimetype": "text/x-python",
      "name": "python",
      "nbconvert_exporter": "python",
      "pygments_lexer": "ipython3",
      "version": "3.9.7"
    },
    "orig_nbformat": 4,
    "colab": {
      "name": "quiz-colab.ipynb",
      "provenance": [],
      "collapsed_sections": []
    }
  },
  "nbformat": 4,
  "nbformat_minor": 0
}